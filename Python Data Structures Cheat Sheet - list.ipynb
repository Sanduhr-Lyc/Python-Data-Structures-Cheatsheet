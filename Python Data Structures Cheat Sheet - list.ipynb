{
 "cells": [
  {
   "cell_type": "code",
   "execution_count": 131,
   "metadata": {
    "collapsed": false
   },
   "outputs": [
    {
     "data": {
      "text/plain": [
       "['Niu', 'Gu', 'Shi', 'apples', 'beef', 'potatos', 'pasta', 'a', 'b', 'c']"
      ]
     },
     "execution_count": 131,
     "metadata": {},
     "output_type": "execute_result"
    }
   ],
   "source": [
    "#---------------------------------list---------------------------------------#\n",
    "\n",
    "#list is a collection which is ordered and changeable. Allows duplicate members. Content can be modified.\n",
    "#Two ways to define a list\n",
    "my_list = ['Niu','Gu','Shi']\n",
    "\n",
    "food = ['apples','beef','potatos','pasta']\n",
    "my_list_2 = list (food)\n",
    "\n",
    "# Combining lists\n",
    "my_list_combined = my_list + my_list_2\n",
    "my_list_combined.extend(['a','b','c'])\n",
    "\n",
    "my_list_combined"
   ]
  },
  {
   "cell_type": "code",
   "execution_count": 132,
   "metadata": {
    "collapsed": false
   },
   "outputs": [
    {
     "name": "stdout",
     "output_type": "stream",
     "text": [
      "['Niu', '(1,2)', 'Gu', 'Shi', 'Santa']\n"
     ]
    },
    {
     "data": {
      "text/plain": [
       "['Santa', 'Gu', 'Niu']"
      ]
     },
     "execution_count": 132,
     "metadata": {},
     "output_type": "execute_result"
    }
   ],
   "source": [
    "# Adding/removing elements\n",
    "my_list.append('Santa')\n",
    "\n",
    "# Insert an element at a specific location\n",
    "my_list.insert(1,'(1,2)')\n",
    "\n",
    "print (my_list)"
   ]
  },
  {
   "cell_type": "code",
   "execution_count": 133,
   "metadata": {
    "collapsed": false
   },
   "outputs": [
    {
     "data": {
      "text/plain": [
       "['Niu', 'Gu', 'Shi']"
      ]
     },
     "execution_count": 133,
     "metadata": {},
     "output_type": "execute_result"
    }
   ],
   "source": [
    "# Remove an element at a particular index\n",
    "my_list.pop(1)\n",
    "my_list\n",
    "\n",
    "# Element can also be removed by value\n",
    "my_list.remove('Santa')\n",
    "my_list"
   ]
  },
  {
   "cell_type": "code",
   "execution_count": 129,
   "metadata": {
    "collapsed": false
   },
   "outputs": [
    {
     "data": {
      "text/plain": [
       "True"
      ]
     },
     "execution_count": 129,
     "metadata": {},
     "output_type": "execute_result"
    }
   ],
   "source": [
    "# Check if a list contains a value\n",
    "'Gu' in my_list"
   ]
  },
  {
   "cell_type": "code",
   "execution_count": 146,
   "metadata": {
    "collapsed": false
   },
   "outputs": [
    {
     "data": {
      "text/plain": [
       "['Gu', 'Niu', 'Shi']"
      ]
     },
     "execution_count": 146,
     "metadata": {},
     "output_type": "execute_result"
    }
   ],
   "source": [
    "# Sort a list \n",
    "list_a = [1,5,7,3,5,9,7,33,4,77,8,5,701,109]\n",
    "list_a.sort()\n",
    "list_a\n",
    "\n",
    "# Sort strings by lengths\n",
    "my_list.sort(key=len)\n",
    "my_list\n"
   ]
  },
  {
   "cell_type": "code",
   "execution_count": 147,
   "metadata": {
    "collapsed": false
   },
   "outputs": [
    {
     "data": {
      "text/plain": [
       "[1, 3, 4, 5, 5, 5, 7, 7, 8, 9, 33, 77, 109, 701, 888]"
      ]
     },
     "execution_count": 147,
     "metadata": {},
     "output_type": "execute_result"
    }
   ],
   "source": [
    "# Binary search & Maintain a sorted list\n",
    "import bisect as bi\n",
    "\n",
    "# Find the location to be inserted\n",
    "bi.bisect(list_a,55)\n",
    "\n",
    "# Find the location and insert a new element in a sorted list\n",
    "bi.insort(list_a,888)\n",
    "\n",
    "list_a"
   ]
  },
  {
   "cell_type": "code",
   "execution_count": 157,
   "metadata": {
    "collapsed": false
   },
   "outputs": [
    {
     "data": {
      "text/plain": [
       "['Gu']"
      ]
     },
     "execution_count": 157,
     "metadata": {},
     "output_type": "execute_result"
    }
   ],
   "source": [
    "# Slicing \n",
    "my_list[1:2]\n",
    "my_list[:1]\n",
    "my_list[2:]\n",
    "my_list[-2]\n",
    "my_list[-2:]\n",
    "my_list[::2]\n",
    "my_list[::-2]\n",
    "my_list[-2::]\n",
    "my_list[-2:-1]\n"
   ]
  }
 ],
 "metadata": {
  "kernelspec": {
   "display_name": "Python 3",
   "language": "python",
   "name": "python3"
  },
  "language_info": {
   "codemirror_mode": {
    "name": "ipython",
    "version": 3
   },
   "file_extension": ".py",
   "mimetype": "text/x-python",
   "name": "python",
   "nbconvert_exporter": "python",
   "pygments_lexer": "ipython3",
   "version": "3.6.0"
  }
 },
 "nbformat": 4,
 "nbformat_minor": 2
}
