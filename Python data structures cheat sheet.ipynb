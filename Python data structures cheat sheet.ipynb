{
 "cells": [
  {
   "cell_type": "code",
   "execution_count": 9,
   "metadata": {
    "collapsed": false
   },
   "outputs": [
    {
     "data": {
      "text/plain": [
       "['Niu', 'Gu', 'Shi', 'apples', 'beef', 'potatos', 'pasta', 'a', 'b', 'c']"
      ]
     },
     "execution_count": 9,
     "metadata": {},
     "output_type": "execute_result"
    }
   ],
   "source": [
    "#---------------------------------list---------------------------------------#\n",
    "\n",
    "#list is a collection which is ordered and changeable. Allows duplicate members. Content can be modified.\n",
    "#Two ways to define a list\n",
    "my_list = ['Niu','Gu','Shi']\n",
    "\n",
    "food = ['apples','beef','potatos','pasta']\n",
    "my_list_2 = list (food)\n",
    "\n",
    "# Combining lists\n",
    "my_list_combined = my_list + my_list_2\n",
    "my_list_combined.extend(['a','b','c'])\n",
    "\n",
    "my_list_combined"
   ]
  },
  {
   "cell_type": "code",
   "execution_count": 10,
   "metadata": {
    "collapsed": false
   },
   "outputs": [
    {
     "name": "stdout",
     "output_type": "stream",
     "text": [
      "['Niu', '(1,2)', 'Gu', 'Shi', 'Santa']\n"
     ]
    }
   ],
   "source": [
    "# Adding/removing elements\n",
    "my_list.append('Santa')\n",
    "\n",
    "# Insert an element at a specific location\n",
    "my_list.insert(1,'(1,2)')\n",
    "\n",
    "print (my_list)"
   ]
  },
  {
   "cell_type": "code",
   "execution_count": 11,
   "metadata": {
    "collapsed": false
   },
   "outputs": [
    {
     "data": {
      "text/plain": [
       "['Niu', 'Gu', 'Shi']"
      ]
     },
     "execution_count": 11,
     "metadata": {},
     "output_type": "execute_result"
    }
   ],
   "source": [
    "# Remove an element at a particular index\n",
    "my_list.pop(1)\n",
    "my_list\n",
    "\n",
    "# Element can also be removed by value\n",
    "my_list.remove('Santa')\n",
    "my_list"
   ]
  },
  {
   "cell_type": "code",
   "execution_count": 12,
   "metadata": {
    "collapsed": false
   },
   "outputs": [
    {
     "data": {
      "text/plain": [
       "True"
      ]
     },
     "execution_count": 12,
     "metadata": {},
     "output_type": "execute_result"
    }
   ],
   "source": [
    "# Check if a list contains a value\n",
    "'Gu' in my_list"
   ]
  },
  {
   "cell_type": "code",
   "execution_count": 13,
   "metadata": {
    "collapsed": false
   },
   "outputs": [
    {
     "data": {
      "text/plain": [
       "['Gu', 'Niu', 'Shi']"
      ]
     },
     "execution_count": 13,
     "metadata": {},
     "output_type": "execute_result"
    }
   ],
   "source": [
    "# Sort a list \n",
    "list_a = [1,5,7,3,5,9,7,33,4,77,8,5,701,109]\n",
    "list_a.sort()\n",
    "list_a\n",
    "\n",
    "# Sort strings by lengths\n",
    "my_list.sort(key=len)\n",
    "my_list\n"
   ]
  },
  {
   "cell_type": "code",
   "execution_count": 14,
   "metadata": {
    "collapsed": false
   },
   "outputs": [
    {
     "data": {
      "text/plain": [
       "[1, 3, 4, 5, 5, 5, 7, 7, 8, 9, 33, 77, 109, 701, 888]"
      ]
     },
     "execution_count": 14,
     "metadata": {},
     "output_type": "execute_result"
    }
   ],
   "source": [
    "# Binary search & Maintain a sorted list\n",
    "import bisect as bi\n",
    "\n",
    "# Find the location to be inserted\n",
    "bi.bisect(list_a,55)\n",
    "\n",
    "# Find the location and insert a new element in a sorted list\n",
    "bi.insort(list_a,888)\n",
    "\n",
    "list_a"
   ]
  },
  {
   "cell_type": "code",
   "execution_count": 15,
   "metadata": {
    "collapsed": false
   },
   "outputs": [
    {
     "name": "stdout",
     "output_type": "stream",
     "text": [
      "['Niu']\n",
      "['Gu']\n",
      "['Shi']\n",
      "Niu\n",
      "['Niu', 'Shi']\n",
      "['Gu', 'Shi']\n",
      "['Shi', 'Gu']\n",
      "['Niu', 'Shi']\n",
      "['Niu']\n"
     ]
    }
   ],
   "source": [
    "# Slicing \n",
    "print(my_list[1:2])\n",
    "print(my_list[:1])\n",
    "print(my_list[2:])\n",
    "print(my_list[-2])\n",
    "print(my_list[-2:])\n",
    "print(my_list[::2])\n",
    "print(my_list[::-2])\n",
    "print(my_list[-2::])\n",
    "print(my_list[-2:-1])\n"
   ]
  },
  {
   "cell_type": "code",
   "execution_count": 16,
   "metadata": {
    "collapsed": false
   },
   "outputs": [
    {
     "name": "stdout",
     "output_type": "stream",
     "text": [
      "(4, 5, 6)\n",
      "6\n",
      "5\n"
     ]
    }
   ],
   "source": [
    "#---------------------------------tuple---------------------------------------#\n",
    "\n",
    "# A tuple is a one-dimensional, fixed-length, immutable sequence of Python Objects\n",
    "\n",
    "my_tup = 4,5,6\n",
    "print(my_tup)\n",
    "\n",
    "# Element can be accessed with []\n",
    "print(my_tup[2])\n",
    "\n",
    "# Unpacking tuples\n",
    "a,b,c = my_tup\n",
    "print(b)\n",
    "\n",
    "my_tup2 = 7,8,(9,10)\n",
    "a,b,(c,d) = my_tup2"
   ]
  },
  {
   "cell_type": "code",
   "execution_count": 17,
   "metadata": {
    "collapsed": false
   },
   "outputs": [
    {
     "name": "stdout",
     "output_type": "stream",
     "text": [
      "('can', 'I', 'be', 'a', 'tuple', '?')\n"
     ]
    }
   ],
   "source": [
    "# Any sequence can be converted to a tuple\n",
    "\n",
    "print(tuple(['can','I','be','a','tuple','?']))\n",
    "\n",
    "tuple_string = tuple('string')"
   ]
  },
  {
   "cell_type": "code",
   "execution_count": 18,
   "metadata": {
    "collapsed": false
   },
   "outputs": [
    {
     "data": {
      "text/plain": [
       "4"
      ]
     },
     "execution_count": 18,
     "metadata": {},
     "output_type": "execute_result"
    }
   ],
   "source": [
    "# tuple method\n",
    "\n",
    "my_tup3 = ('a','e','f','c','g','b','c','d','e','a','a','a')\n",
    "my_tup3.count('a')"
   ]
  },
  {
   "cell_type": "code",
   "execution_count": 19,
   "metadata": {
    "collapsed": false
   },
   "outputs": [
    {
     "name": "stdout",
     "output_type": "stream",
     "text": [
      "{'bananas', 'carrots', 'apples'}\n"
     ]
    }
   ],
   "source": [
    "#---------------------------------set---------------------------------------#\n",
    "\n",
    "# A set is a collection which is unordered and unindexed. In Python sets are written with curly brackets.\n",
    "my_set = {'apples','bananas','carrots'}\n",
    "print (my_set)\n",
    "\n",
    "# Check if a set is a subset of another set\n",
    "my_set_2 = {'apples'}"
   ]
  },
  {
   "cell_type": "code",
   "execution_count": 20,
   "metadata": {
    "collapsed": false
   },
   "outputs": [
    {
     "name": "stdout",
     "output_type": "stream",
     "text": [
      "{0, 1, 66, 3, 6, 8, 9, 10, 74, 46, 29}\n",
      "{0, 1, 66, 3, 9, 10, 74, 29, 46}\n",
      "{8, 6}\n",
      "{1, 3, 9}\n"
     ]
    }
   ],
   "source": [
    "# Mathematical set operations\n",
    "\n",
    "set_a = {1,6,8,9,3}\n",
    "set_b = {0,6,8,10,29,46,74,66}\n",
    "print(set_a | set_b) #union\n",
    "print(set_a ^ set_b)#symmetric difference\n",
    "print(set_a & set_b) # and\n",
    "print(set_a - set_b) # difference"
   ]
  },
  {
   "cell_type": "code",
   "execution_count": 21,
   "metadata": {
    "collapsed": false
   },
   "outputs": [
    {
     "name": "stdout",
     "output_type": "stream",
     "text": [
      "dict_keys(['brand', 'model', 'price'])\n",
      "dict_values(['Nike', 'classic', 198])\n",
      "classic\n",
      "True\n"
     ]
    }
   ],
   "source": [
    "#---------------------------------dictionary---------------------------------------#\n",
    "\n",
    "# A dictionary is a collection which is unordered, changeable and indexed. \n",
    "# In Python dictionaries are written with curly brackets, and they have keys and values.\n",
    "\n",
    "thisdict = {\n",
    "  \"brand\": \"Nike\",\n",
    "  \"model\": \"classic\",\n",
    "  \"price\": 198\n",
    "}\n",
    "\n",
    "print(thisdict.keys())\n",
    "print(thisdict.values())\n",
    "\n",
    "print(thisdict['model'])\n",
    "\n",
    "# Check if a dict contains a key\n",
    "print(\"brand\" in thisdict)\n",
    "\n",
    "# One dict can be merged into anothor dict\n",
    "thisdict.update({'color': 'blk'})"
   ]
  },
  {
   "cell_type": "code",
   "execution_count": 22,
   "metadata": {
    "collapsed": false
   },
   "outputs": [
    {
     "data": {
      "text/plain": [
       "{'b': ['black', 'blue'],\n",
       " 'g': ['grey', 'green'],\n",
       " 'o': ['orange'],\n",
       " 'r': ['red'],\n",
       " 'y': ['yellow']}"
      ]
     },
     "execution_count": 22,
     "metadata": {},
     "output_type": "execute_result"
    }
   ],
   "source": [
    " # Categorizing a list of color by it's first letter with a 'for loop'\n",
    "\n",
    "colors = ['black','red','yellow','blue','grey','orange','green']\n",
    "by_letter = {}\n",
    "for color in colors:\n",
    "    letter = color[0]\n",
    "    if letter not in by_letter:\n",
    "        by_letter[letter] = [color]\n",
    "    else:\n",
    "        by_letter[letter].append(color)\n",
    "            \n",
    "by_letter"
   ]
  },
  {
   "cell_type": "code",
   "execution_count": 47,
   "metadata": {
    "collapsed": false
   },
   "outputs": [
    {
     "name": "stdout",
     "output_type": "stream",
     "text": [
      "['NEW YORK']\n",
      "{8, 4, 6}\n",
      "{'yellow': 0, 'taxi': 1, 'New York': 2}\n"
     ]
    }
   ],
   "source": [
    "# List, set and dict comprehension allows you to form a new list by filtering the elements\n",
    "\n",
    "#[expr for val in collection if condition]\n",
    "\n",
    "the_city = ['yellow','taxi','New York']\n",
    "print( [x.upper() for x in the_city if len(x)>7] )\n",
    "\n",
    "\n",
    "lengths = {len(x) for x in the_city}\n",
    "print(lengths)\n",
    "\n",
    "mapping = {k : index for index, k in enumerate(the_city)}\n",
    "print(mapping)"
   ]
  },
  {
   "cell_type": "code",
   "execution_count": 23,
   "metadata": {
    "collapsed": false
   },
   "outputs": [
    {
     "data": {
      "text/plain": [
       "array([[3, 4, 5]])"
      ]
     },
     "execution_count": 23,
     "metadata": {},
     "output_type": "execute_result"
    }
   ],
   "source": [
    "#Numpy array is a fast, flexible container for large data sets in Python.\n",
    "\n",
    "import numpy as np\n",
    "my_array = np.array([1, 2, 3])\n",
    "my_array\n",
    "\n",
    "#Multi-dimentional array\n",
    "my_ndarray = np.array([[3,4,5],[6,7,8]])\n",
    "my_ndarray\n",
    "\n",
    "#Basic indexing and slicing\n",
    "my_ndarray[0][1]\n",
    "my_ndarray[0,1]\n",
    "my_ndarray[:1]"
   ]
  },
  {
   "cell_type": "code",
   "execution_count": 24,
   "metadata": {
    "collapsed": false
   },
   "outputs": [
    {
     "data": {
      "text/plain": [
       "0    1\n",
       "1    2\n",
       "2    3\n",
       "dtype: int64"
      ]
     },
     "execution_count": 24,
     "metadata": {},
     "output_type": "execute_result"
    }
   ],
   "source": [
    "#class pandas.Series(data=None, index=None, dtype=None, name=None, copy=False, fastpath=False)\n",
    "import pandas as pd\n",
    "my_pandas_series = pd.Series(my_array)\n",
    "my_pandas_series\n"
   ]
  },
  {
   "cell_type": "code",
   "execution_count": 25,
   "metadata": {
    "collapsed": false
   },
   "outputs": [
    {
     "data": {
      "text/plain": [
       "a    3\n",
       "b    2\n",
       "dtype: object"
      ]
     },
     "execution_count": 25,
     "metadata": {},
     "output_type": "execute_result"
    }
   ],
   "source": [
    "import pandas as pd\n",
    "my_pandas_series = pd.Series(data = ['3','2','4','6','10'], index = ['a','b','c','d','e'])\n",
    "my_pandas_series[:2]"
   ]
  },
  {
   "cell_type": "code",
   "execution_count": 26,
   "metadata": {
    "collapsed": false,
    "scrolled": true
   },
   "outputs": [
    {
     "data": {
      "text/plain": [
       "'sam'"
      ]
     },
     "execution_count": 26,
     "metadata": {},
     "output_type": "execute_result"
    }
   ],
   "source": [
    "#A Dataframe is a two-dimensional data structure, i.e., data is aligned in a tabular fashion in rows and columns\n",
    "data_dic = {'name':['joey','sam','nancy','monica'],\n",
    "            'age': [33,29,25,31]}\n",
    "my_df = pd.DataFrame (data_dic)\n",
    "my_df[\"name\"][1]"
   ]
  },
  {
   "cell_type": "code",
   "execution_count": 27,
   "metadata": {
    "collapsed": false
   },
   "outputs": [
    {
     "name": "stdout",
     "output_type": "stream",
     "text": [
      "   a\n",
      "0  1\n"
     ]
    }
   ],
   "source": [
    "#attribute value to a dataframe\n",
    "data = {'a':['1']}\n",
    "test = pd.DataFrame(data)\n",
    "test['a'][0]\n",
    "print(test)\n"
   ]
  }
 ],
 "metadata": {
  "kernelspec": {
   "display_name": "Python 3",
   "language": "python",
   "name": "python3"
  },
  "language_info": {
   "codemirror_mode": {
    "name": "ipython",
    "version": 3
   },
   "file_extension": ".py",
   "mimetype": "text/x-python",
   "name": "python",
   "nbconvert_exporter": "python",
   "pygments_lexer": "ipython3",
   "version": "3.6.0"
  }
 },
 "nbformat": 4,
 "nbformat_minor": 2
}
