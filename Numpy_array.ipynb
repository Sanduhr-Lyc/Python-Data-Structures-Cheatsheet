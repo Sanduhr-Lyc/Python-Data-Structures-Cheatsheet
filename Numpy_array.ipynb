{
 "cells": [
  {
   "cell_type": "code",
   "execution_count": 17,
   "metadata": {
    "collapsed": false
   },
   "outputs": [
    {
     "name": "stdout",
     "output_type": "stream",
     "text": [
      "my_ndarray =  [[3 4 5]\n",
      " [6 7 8]]\n",
      "np.zeros =  [[0. 0. 0. 0. 0. 0.]\n",
      " [0. 0. 0. 0. 0. 0.]\n",
      " [0. 0. 0. 0. 0. 0.]]\n"
     ]
    }
   ],
   "source": [
    "#Numpy array is a fast, flexible container for large data sets in Python.\n",
    "\n",
    "import numpy as np\n",
    "my_array = np.array([1, 2, 3])\n",
    "my_array\n",
    "\n",
    "#Multi-dimentional array\n",
    "my_ndarray = np.array([[3,4,5],[6,7,8]])\n",
    "print(\"my_ndarray = \",my_ndarray)\n",
    "print(\"np.zeros = \",np.zeros((3,6)))"
   ]
  },
  {
   "cell_type": "code",
   "execution_count": 18,
   "metadata": {
    "collapsed": false
   },
   "outputs": [
    {
     "name": "stdout",
     "output_type": "stream",
     "text": [
      "4\n",
      "4\n",
      "[[3 4 5]]\n",
      "[[4 5]\n",
      " [7 8]]\n",
      "[[3]\n",
      " [6]\n",
      " [7]\n",
      " [6]]\n"
     ]
    }
   ],
   "source": [
    "#Basic indexing and slicing\n",
    "my_ndarray = np.array([[3,4,5],[6,7,8],[7,2,8],[6,6,6]])\n",
    "\n",
    "\n",
    "print(my_ndarray[0][1])\n",
    "print(my_ndarray[0,1])\n",
    "print(my_ndarray[:1])\n",
    "print(my_ndarray[:2,1:])\n",
    "print(my_ndarray[:,:1])"
   ]
  },
  {
   "cell_type": "code",
   "execution_count": 19,
   "metadata": {
    "collapsed": false
   },
   "outputs": [
    {
     "name": "stdout",
     "output_type": "stream",
     "text": [
      "['one' 'two' 'two' 'six' 'five' 'seven' 'two' 'one']\n",
      "[[-1.42541363 -0.74992025  2.000302    0.66950898  0.86506428]\n",
      " [ 1.32687567  0.32203969  1.08593956  1.65003947  0.63365086]\n",
      " [ 0.27654844  0.12270779 -1.91979805  0.34162652  1.36132855]\n",
      " [ 0.80263463 -0.69115579  1.90252134 -1.37954677  1.81653947]\n",
      " [ 0.07264898  0.82144606 -0.50386146 -0.45648058  1.26423587]\n",
      " [-0.76346101 -0.01893189  1.24192573  0.75978429  0.02701879]\n",
      " [ 1.26371508  0.15091135 -0.23897708  0.53073569 -0.07513877]\n",
      " [-0.44930281  1.3693586  -0.50366086  0.13172849 -0.67930703]]\n",
      "\n",
      "\n",
      "[ True False False False False False False  True]\n",
      "[[-1.42541363 -0.74992025  2.000302    0.66950898  0.86506428]\n",
      " [-0.44930281  1.3693586  -0.50366086  0.13172849 -0.67930703]]\n",
      "\n",
      "\n",
      "[0.66950898 0.13172849]\n"
     ]
    }
   ],
   "source": [
    "# Boolean Indexing\n",
    "\n",
    "names = np.array(['one','two','two','six','five','seven','two','one'])\n",
    "data = np.random.randn(8,5)\n",
    "print(names)\n",
    "print(data)\n",
    "print('\\n')\n",
    "print(names == 'one')\n",
    "print(data[names == 'one'])\n",
    "print('\\n')\n",
    "print(data[names == 'one', 3])\n"
   ]
  },
  {
   "cell_type": "code",
   "execution_count": 20,
   "metadata": {
    "collapsed": false
   },
   "outputs": [
    {
     "name": "stdout",
     "output_type": "stream",
     "text": [
      "[[0. 0. 0. 0. 0.]\n",
      " [1. 1. 1. 1. 1.]\n",
      " [2. 2. 2. 2. 2.]\n",
      " [3. 3. 3. 3. 3.]\n",
      " [4. 4. 4. 4. 4.]\n",
      " [5. 5. 5. 5. 5.]\n",
      " [6. 6. 6. 6. 6.]]\n",
      "\n",
      "\n",
      "[[5. 5. 5. 5. 5.]\n",
      " [6. 6. 6. 6. 6.]\n",
      " [2. 2. 2. 2. 2.]\n",
      " [3. 3. 3. 3. 3.]]\n",
      "\n",
      "\n",
      "[[2. 2. 2. 2. 2.]\n",
      " [1. 1. 1. 1. 1.]\n",
      " [5. 5. 5. 5. 5.]\n",
      " [4. 4. 4. 4. 4.]]\n",
      "\n",
      "\n",
      "[[ 0  1  2  3  4  5  6  7]\n",
      " [ 8  9 10 11 12 13 14 15]]\n"
     ]
    }
   ],
   "source": [
    "# Fancy Indexing\n",
    "my_array_2 = np.empty((7,5))\n",
    "for i in range(7):\n",
    "    my_array_2[i]=i\n",
    "         \n",
    "print(my_array_2)\n",
    "print('\\n')\n",
    "\n",
    "# Select a subset of the rows in a particular order\n",
    "print(my_array_2[[5,6,2,3]])\n",
    "print('\\n')\n",
    "print(my_array_2[[-5,-6,-2,-3]])\n",
    "print('\\n')\n",
    "\n",
    "# Reshape\n",
    "my_array_3 = np.arange(16).reshape((2,8))\n",
    "print(my_array_3)"
   ]
  },
  {
   "cell_type": "code",
   "execution_count": 37,
   "metadata": {
    "collapsed": false
   },
   "outputs": [
    {
     "name": "stdout",
     "output_type": "stream",
     "text": [
      "[[ 0.18923233 -1.02335551  0.6577996 ]\n",
      " [-0.39907635  0.34950608 -1.13483097]\n",
      " [-0.99440155 -0.99325095  0.86102299]\n",
      " [-0.8939177  -1.03570296  0.06107991]\n",
      " [-0.55785332 -1.53601465 -1.22538365]\n",
      " [ 0.28379818  0.60924201 -1.11177591]]\n",
      "[[ 2.37473585  2.61016459  0.03462251]\n",
      " [ 2.61016459  5.9591559  -0.78339906]\n",
      " [ 0.03462251 -0.78339906  5.20324373]]\n",
      "\n",
      "\n",
      "[[[ 0  1  2  3]\n",
      "  [ 4  5  6  7]]\n",
      "\n",
      " [[ 8  9 10 11]\n",
      "  [12 13 14 15]]]\n"
     ]
    },
    {
     "data": {
      "text/plain": [
       "array([[[ 0,  1,  2,  3],\n",
       "        [ 8,  9, 10, 11]],\n",
       "\n",
       "       [[ 4,  5,  6,  7],\n",
       "        [12, 13, 14, 15]]])"
      ]
     },
     "execution_count": 37,
     "metadata": {},
     "output_type": "execute_result"
    }
   ],
   "source": [
    "# Inner matrix product\n",
    "my_array_4 = np.random.randn(6,3)\n",
    "print(my_array_4)\n",
    "print(np.dot(my_array_4.T,my_array_4))\n",
    "print('\\n')\n",
    "\n",
    "# Transposing\n",
    "my_array_5 = np.arange(16).reshape(((2,2,4)))\n",
    "print(my_array_5)\n",
    "my_array_5.transpose((1,0,2))"
   ]
  },
  {
   "cell_type": "code",
   "execution_count": 41,
   "metadata": {
    "collapsed": false
   },
   "outputs": [
    {
     "name": "stdout",
     "output_type": "stream",
     "text": [
      "[[ 1.28844554e+00  6.70547126e-01 -7.78570711e-01 -7.41115279e-02]\n",
      " [-9.05586246e-01  1.37519502e-01  9.82722213e-04  8.84700763e-02]\n",
      " [ 2.44903195e-02  3.03942302e-01  1.02565987e+00  7.90524282e-01]\n",
      " [ 3.14764249e-02 -1.53772892e-01 -6.98316066e-01  9.52910340e-01]]\n"
     ]
    },
    {
     "data": {
      "text/plain": [
       "array([[ 2.        ,  2.        , -0.77857071, -0.07411153],\n",
       "       [-0.90558625,  2.        ,  2.        ,  2.        ],\n",
       "       [ 2.        ,  2.        ,  2.        ,  2.        ],\n",
       "       [ 2.        , -0.15377289, -0.69831607,  2.        ]])"
      ]
     },
     "execution_count": 41,
     "metadata": {},
     "output_type": "execute_result"
    }
   ],
   "source": [
    "# Conditional logic as array operations\n",
    "my_array_6 = np.random.randn(4,4)\n",
    "print(my_array_6)\n",
    "np.where(my_array_6>0,2,my_array_6)"
   ]
  },
  {
   "cell_type": "code",
   "execution_count": 50,
   "metadata": {
    "collapsed": false
   },
   "outputs": [
    {
     "name": "stdout",
     "output_type": "stream",
     "text": [
      "[[0. 0. 0. 0. 0.]\n",
      " [1. 1. 1. 1. 1.]\n",
      " [2. 2. 2. 2. 2.]\n",
      " [3. 3. 3. 3. 3.]\n",
      " [4. 4. 4. 4. 4.]]\n",
      "\n",
      "\n",
      "2.0\n"
     ]
    },
    {
     "data": {
      "text/plain": [
       "array([[ 0.,  0.,  0.,  0.,  0.],\n",
       "       [ 1.,  1.,  1.,  1.,  1.],\n",
       "       [ 3.,  3.,  3.,  3.,  3.],\n",
       "       [ 6.,  6.,  6.,  6.,  6.],\n",
       "       [10., 10., 10., 10., 10.]])"
      ]
     },
     "execution_count": 50,
     "metadata": {},
     "output_type": "execute_result"
    }
   ],
   "source": [
    "# Mathematical and statistical methods\n",
    "my_array_7 = np.random.rand(5,5)\n",
    "for i in range(5):\n",
    "    my_array_7[i]=i\n",
    "print(my_array_7)\n",
    "print('\\n')\n",
    "print(my_array_7.mean())\n",
    "\n",
    "my_array_7.cumsum(0)"
   ]
  },
  {
   "cell_type": "code",
   "execution_count": 67,
   "metadata": {
    "collapsed": false
   },
   "outputs": [
    {
     "name": "stdout",
     "output_type": "stream",
     "text": [
      "[[1 2 3]\n",
      " [4 5 6]] \n",
      "\n",
      " [[ 5  6]\n",
      " [11 21]\n",
      " [ 8  9]]\n",
      "\n",
      "\n",
      "[[ 51  75]\n",
      " [123 183]]\n",
      "\n",
      "\n",
      "[[17 22 27]\n",
      " [22 29 36]\n",
      " [27 36 45]]\n",
      "\n",
      "\n",
      "(array([[-0.43864578,  0.8005768 ,  0.40824829],\n",
      "       [-0.56765924,  0.10533905, -0.81649658],\n",
      "       [-0.69667271, -0.5898987 ,  0.40824829]]), array([[-3.87556448e+01, -5.11925427e+01, -6.36294407e+01],\n",
      "       [ 0.00000000e+00, -5.68830885e-01, -1.13766177e+00],\n",
      "       [ 0.00000000e+00,  0.00000000e+00, -1.55431223e-15]]))\n"
     ]
    }
   ],
   "source": [
    "# Linear algebra\n",
    "x = np.array([[1,2,3],[4,5,6]])\n",
    "y = np.array([[5,6],[11,21],[8,9]])\n",
    "print (x, '\\n\\n', y)\n",
    "print('\\n')\n",
    "print(x.dot(y))\n",
    "\n",
    "from numpy.linalg import inv,qr\n",
    "math = x.T.dot(x)\n",
    "print('\\n')\n",
    "print(math)\n",
    "print('\\n')\n",
    "r = qr(math)\n",
    "print(r)"
   ]
  }
 ],
 "metadata": {
  "kernelspec": {
   "display_name": "Python 3",
   "language": "python",
   "name": "python3"
  },
  "language_info": {
   "codemirror_mode": {
    "name": "ipython",
    "version": 3
   },
   "file_extension": ".py",
   "mimetype": "text/x-python",
   "name": "python",
   "nbconvert_exporter": "python",
   "pygments_lexer": "ipython3",
   "version": "3.6.0"
  }
 },
 "nbformat": 4,
 "nbformat_minor": 2
}
