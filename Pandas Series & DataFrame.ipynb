{
 "cells": [
  {
   "cell_type": "code",
   "execution_count": 84,
   "metadata": {
    "collapsed": false
   },
   "outputs": [
    {
     "data": {
      "text/plain": [
       "['Niu', 'Gu', 'Shi', 'apples', 'beef', 'potatos', 'pasta', 'a', 'b', 'c']"
      ]
     },
     "execution_count": 84,
     "metadata": {},
     "output_type": "execute_result"
    }
   ],
   "source": [
    "#---------------------------------list---------------------------------------#\n",
    "\n",
    "#list is a collection which is ordered and changeable. Allows duplicate members. Content can be modified.\n",
    "#Two ways to define a list\n",
    "my_list = ['Niu','Gu','Shi']\n",
    "\n",
    "food = ['apples','beef','potatos','pasta']\n",
    "my_list_2 = list (food)\n",
    "\n",
    "# Combining lists\n",
    "my_list_combined = my_list + my_list_2\n",
    "my_list_combined.extend(['a','b','c'])\n",
    "\n",
    "my_list_combined"
   ]
  },
  {
   "cell_type": "code",
   "execution_count": 85,
   "metadata": {
    "collapsed": false
   },
   "outputs": [
    {
     "name": "stdout",
     "output_type": "stream",
     "text": [
      "['Niu', '(1,2)', 'Gu', 'Shi', 'Santa']\n"
     ]
    }
   ],
   "source": [
    "# Adding/removing elements\n",
    "my_list.append('Santa')\n",
    "\n",
    "# Insert an element at a specific location\n",
    "my_list.insert(1,'(1,2)')\n",
    "\n",
    "print (my_list)"
   ]
  },
  {
   "cell_type": "code",
   "execution_count": 86,
   "metadata": {
    "collapsed": false
   },
   "outputs": [
    {
     "data": {
      "text/plain": [
       "['Niu', 'Gu', 'Shi']"
      ]
     },
     "execution_count": 86,
     "metadata": {},
     "output_type": "execute_result"
    }
   ],
   "source": [
    "# Remove an element at a particular index\n",
    "my_list.pop(1)\n",
    "my_list\n",
    "\n",
    "# Element can also be removed by value\n",
    "my_list.remove('Santa')\n",
    "my_list"
   ]
  },
  {
   "cell_type": "code",
   "execution_count": 87,
   "metadata": {
    "collapsed": false
   },
   "outputs": [
    {
     "data": {
      "text/plain": [
       "True"
      ]
     },
     "execution_count": 87,
     "metadata": {},
     "output_type": "execute_result"
    }
   ],
   "source": [
    "# Check if a list contains a value\n",
    "'Gu' in my_list"
   ]
  },
  {
   "cell_type": "code",
   "execution_count": 88,
   "metadata": {
    "collapsed": false
   },
   "outputs": [
    {
     "data": {
      "text/plain": [
       "['Gu', 'Niu', 'Shi']"
      ]
     },
     "execution_count": 88,
     "metadata": {},
     "output_type": "execute_result"
    }
   ],
   "source": [
    "# Sort a list \n",
    "list_a = [1,5,7,3,5,9,7,33,4,77,8,5,701,109]\n",
    "list_a.sort()\n",
    "list_a\n",
    "\n",
    "# Sort strings by lengths\n",
    "my_list.sort(key=len)\n",
    "my_list\n"
   ]
  },
  {
   "cell_type": "code",
   "execution_count": 89,
   "metadata": {
    "collapsed": false
   },
   "outputs": [
    {
     "data": {
      "text/plain": [
       "[1, 3, 4, 5, 5, 5, 7, 7, 8, 9, 33, 77, 109, 701, 888]"
      ]
     },
     "execution_count": 89,
     "metadata": {},
     "output_type": "execute_result"
    }
   ],
   "source": [
    "# Binary search & Maintain a sorted list\n",
    "import bisect as bi\n",
    "\n",
    "# Find the location to be inserted\n",
    "bi.bisect(list_a,55)\n",
    "\n",
    "# Find the location and insert a new element in a sorted list\n",
    "bi.insort(list_a,888)\n",
    "\n",
    "list_a"
   ]
  },
  {
   "cell_type": "code",
   "execution_count": 90,
   "metadata": {
    "collapsed": false
   },
   "outputs": [
    {
     "name": "stdout",
     "output_type": "stream",
     "text": [
      "['Niu']\n",
      "['Gu']\n",
      "['Shi']\n",
      "Niu\n",
      "['Niu', 'Shi']\n",
      "['Gu', 'Shi']\n",
      "['Shi', 'Gu']\n",
      "['Niu', 'Shi']\n",
      "['Niu']\n"
     ]
    }
   ],
   "source": [
    "# Slicing \n",
    "print(my_list[1:2])\n",
    "print(my_list[:1])\n",
    "print(my_list[2:])\n",
    "print(my_list[-2])\n",
    "print(my_list[-2:])\n",
    "print(my_list[::2])\n",
    "print(my_list[::-2])\n",
    "print(my_list[-2::])\n",
    "print(my_list[-2:-1])\n"
   ]
  },
  {
   "cell_type": "code",
   "execution_count": 91,
   "metadata": {
    "collapsed": false
   },
   "outputs": [
    {
     "name": "stdout",
     "output_type": "stream",
     "text": [
      "(4, 5, 6)\n",
      "6\n",
      "5\n"
     ]
    }
   ],
   "source": [
    "#---------------------------------tuple---------------------------------------#\n",
    "\n",
    "# A tuple is a one-dimensional, fixed-length, immutable sequence of Python Objects\n",
    "\n",
    "my_tup = 4,5,6\n",
    "print(my_tup)\n",
    "\n",
    "# Element can be accessed with []\n",
    "print(my_tup[2])\n",
    "\n",
    "# Unpacking tuples\n",
    "a,b,c = my_tup\n",
    "print(b)\n",
    "\n",
    "my_tup2 = 7,8,(9,10)\n",
    "a,b,(c,d) = my_tup2"
   ]
  },
  {
   "cell_type": "code",
   "execution_count": 92,
   "metadata": {
    "collapsed": false
   },
   "outputs": [
    {
     "name": "stdout",
     "output_type": "stream",
     "text": [
      "('can', 'I', 'be', 'a', 'tuple', '?')\n"
     ]
    }
   ],
   "source": [
    "# Any sequence can be converted to a tuple\n",
    "\n",
    "print(tuple(['can','I','be','a','tuple','?']))\n",
    "\n",
    "tuple_string = tuple('string')"
   ]
  },
  {
   "cell_type": "code",
   "execution_count": 93,
   "metadata": {
    "collapsed": false
   },
   "outputs": [
    {
     "data": {
      "text/plain": [
       "4"
      ]
     },
     "execution_count": 93,
     "metadata": {},
     "output_type": "execute_result"
    }
   ],
   "source": [
    "# tuple method\n",
    "\n",
    "my_tup3 = ('a','e','f','c','g','b','c','d','e','a','a','a')\n",
    "my_tup3.count('a')"
   ]
  },
  {
   "cell_type": "code",
   "execution_count": 94,
   "metadata": {
    "collapsed": false
   },
   "outputs": [
    {
     "name": "stdout",
     "output_type": "stream",
     "text": [
      "{'carrots', 'apples', 'bananas'}\n"
     ]
    }
   ],
   "source": [
    "#---------------------------------set---------------------------------------#\n",
    "\n",
    "# A set is a collection which is unordered and unindexed. In Python sets are written with curly brackets.\n",
    "my_set = {'apples','bananas','carrots'}\n",
    "print (my_set)\n",
    "\n",
    "# Check if a set is a subset of another set\n",
    "my_set_2 = {'apples'}"
   ]
  },
  {
   "cell_type": "code",
   "execution_count": 95,
   "metadata": {
    "collapsed": false
   },
   "outputs": [
    {
     "name": "stdout",
     "output_type": "stream",
     "text": [
      "{0, 1, 66, 3, 6, 8, 9, 10, 74, 46, 29}\n",
      "{0, 1, 66, 3, 9, 10, 74, 29, 46}\n",
      "{8, 6}\n",
      "{1, 3, 9}\n"
     ]
    }
   ],
   "source": [
    "# Mathematical set operations\n",
    "\n",
    "set_a = {1,6,8,9,3}\n",
    "set_b = {0,6,8,10,29,46,74,66}\n",
    "print(set_a | set_b) #union\n",
    "print(set_a ^ set_b)#symmetric difference\n",
    "print(set_a & set_b) # and\n",
    "print(set_a - set_b) # difference"
   ]
  },
  {
   "cell_type": "code",
   "execution_count": 96,
   "metadata": {
    "collapsed": false
   },
   "outputs": [
    {
     "name": "stdout",
     "output_type": "stream",
     "text": [
      "dict_keys(['brand', 'model', 'price'])\n",
      "dict_values(['Nike', 'classic', 198])\n",
      "classic\n",
      "True\n"
     ]
    }
   ],
   "source": [
    "#---------------------------------dictionary---------------------------------------#\n",
    "\n",
    "# A dictionary is a collection which is unordered, changeable and indexed. \n",
    "# In Python dictionaries are written with curly brackets, and they have keys and values.\n",
    "\n",
    "thisdict = {\n",
    "  \"brand\": \"Nike\",\n",
    "  \"model\": \"classic\",\n",
    "  \"price\": 198\n",
    "}\n",
    "\n",
    "print(thisdict.keys())\n",
    "print(thisdict.values())\n",
    "\n",
    "print(thisdict['model'])\n",
    "\n",
    "# Check if a dict contains a key\n",
    "print(\"brand\" in thisdict)\n",
    "\n",
    "# One dict can be merged into anothor dict\n",
    "thisdict.update({'color': 'blk'})"
   ]
  },
  {
   "cell_type": "code",
   "execution_count": 97,
   "metadata": {
    "collapsed": false
   },
   "outputs": [
    {
     "data": {
      "text/plain": [
       "{'b': ['black', 'blue'],\n",
       " 'g': ['grey', 'green'],\n",
       " 'o': ['orange'],\n",
       " 'r': ['red'],\n",
       " 'y': ['yellow']}"
      ]
     },
     "execution_count": 97,
     "metadata": {},
     "output_type": "execute_result"
    }
   ],
   "source": [
    " # Categorizing a list of color by it's first letter with a 'for loop'\n",
    "\n",
    "colors = ['black','red','yellow','blue','grey','orange','green']\n",
    "by_letter = {}\n",
    "for color in colors:\n",
    "    letter = color[0]\n",
    "    if letter not in by_letter:\n",
    "        by_letter[letter] = [color]\n",
    "    else:\n",
    "        by_letter[letter].append(color)\n",
    "            \n",
    "by_letter"
   ]
  },
  {
   "cell_type": "code",
   "execution_count": 98,
   "metadata": {
    "collapsed": false
   },
   "outputs": [
    {
     "name": "stdout",
     "output_type": "stream",
     "text": [
      "['NEW YORK']\n",
      "{8, 4, 6}\n",
      "{'yellow': 0, 'taxi': 1, 'New York': 2}\n"
     ]
    }
   ],
   "source": [
    "# List, set and dict comprehension allows you to form a new list by filtering the elements\n",
    "\n",
    "#[expr for val in collection if condition]\n",
    "\n",
    "the_city = ['yellow','taxi','New York']\n",
    "print( [x.upper() for x in the_city if len(x)>7] )\n",
    "\n",
    "\n",
    "lengths = {len(x) for x in the_city}\n",
    "print(lengths)\n",
    "\n",
    "mapping = {k : index for index, k in enumerate(the_city)}\n",
    "print(mapping)"
   ]
  },
  {
   "cell_type": "code",
   "execution_count": 99,
   "metadata": {
    "collapsed": false
   },
   "outputs": [
    {
     "name": "stdout",
     "output_type": "stream",
     "text": [
      "my_ndarray =  [[3 4 5]\n",
      " [6 7 8]]\n",
      "np.zeros =  [[0. 0. 0. 0. 0. 0.]\n",
      " [0. 0. 0. 0. 0. 0.]\n",
      " [0. 0. 0. 0. 0. 0.]]\n"
     ]
    }
   ],
   "source": [
    "#Numpy array is a fast, flexible container for large data sets in Python.\n",
    "\n",
    "import numpy as np\n",
    "my_array = np.array([1, 2, 3])\n",
    "my_array\n",
    "\n",
    "#Multi-dimentional array\n",
    "my_ndarray = np.array([[3,4,5],[6,7,8]])\n",
    "print(\"my_ndarray = \",my_ndarray)\n",
    "print(\"np.zeros = \",np.zeros((3,6)))"
   ]
  },
  {
   "cell_type": "code",
   "execution_count": 100,
   "metadata": {
    "collapsed": false
   },
   "outputs": [
    {
     "name": "stdout",
     "output_type": "stream",
     "text": [
      "4\n",
      "4\n",
      "[[3 4 5]]\n",
      "[[4 5]\n",
      " [7 8]]\n",
      "[[3]\n",
      " [6]\n",
      " [7]\n",
      " [6]]\n"
     ]
    }
   ],
   "source": [
    "#Basic indexing and slicing\n",
    "my_ndarray = np.array([[3,4,5],[6,7,8],[7,2,8],[6,6,6]])\n",
    "\n",
    "\n",
    "print(my_ndarray[0][1])\n",
    "print(my_ndarray[0,1])\n",
    "print(my_ndarray[:1])\n",
    "print(my_ndarray[:2,1:])\n",
    "print(my_ndarray[:,:1])"
   ]
  },
  {
   "cell_type": "code",
   "execution_count": 101,
   "metadata": {
    "collapsed": false
   },
   "outputs": [
    {
     "name": "stdout",
     "output_type": "stream",
     "text": [
      "['one' 'two' 'two' 'six' 'five' 'seven' 'two' 'one']\n",
      "[[-0.24774455  0.73454184 -0.37422328  0.37411579  0.97952412]\n",
      " [-1.37891765 -1.34310692 -1.86722295 -1.02308476 -0.87667148]\n",
      " [-1.09854278  0.44948022 -0.93661421 -0.61809116 -1.4396636 ]\n",
      " [-2.6021431   0.92407431  1.46613664 -1.5271968  -1.80732396]\n",
      " [-1.00857775 -0.18827108  1.06437784 -2.49040597 -0.19208846]\n",
      " [-0.38964058 -1.20151505 -0.23066715  0.59582713  0.54854368]\n",
      " [ 1.31347499 -0.08189861 -0.32163023 -1.12927029  1.395261  ]\n",
      " [-1.45142683  0.05354772  0.34478953  0.31702648 -0.35093417]]\n",
      "\n",
      "\n",
      "[ True False False False False False False  True]\n",
      "[[-0.24774455  0.73454184 -0.37422328  0.37411579  0.97952412]\n",
      " [-1.45142683  0.05354772  0.34478953  0.31702648 -0.35093417]]\n",
      "\n",
      "\n",
      "[0.37411579 0.31702648]\n"
     ]
    }
   ],
   "source": [
    "# Boolean Indexing\n",
    "\n",
    "names = np.array(['one','two','two','six','five','seven','two','one'])\n",
    "data = np.random.randn(8,5)\n",
    "print(names)\n",
    "print(data)\n",
    "print('\\n')\n",
    "print(names == 'one')\n",
    "print(data[names == 'one'])\n",
    "print('\\n')\n",
    "print(data[names == 'one', 3])\n"
   ]
  },
  {
   "cell_type": "code",
   "execution_count": 102,
   "metadata": {
    "collapsed": false
   },
   "outputs": [
    {
     "name": "stdout",
     "output_type": "stream",
     "text": [
      "[[0. 0. 0. 0. 0.]\n",
      " [1. 1. 1. 1. 1.]\n",
      " [2. 2. 2. 2. 2.]\n",
      " [3. 3. 3. 3. 3.]\n",
      " [4. 4. 4. 4. 4.]\n",
      " [5. 5. 5. 5. 5.]\n",
      " [6. 6. 6. 6. 6.]]\n",
      "\n",
      "\n",
      "[[5. 5. 5. 5. 5.]\n",
      " [6. 6. 6. 6. 6.]\n",
      " [2. 2. 2. 2. 2.]\n",
      " [3. 3. 3. 3. 3.]]\n",
      "\n",
      "\n",
      "[[2. 2. 2. 2. 2.]\n",
      " [1. 1. 1. 1. 1.]\n",
      " [5. 5. 5. 5. 5.]\n",
      " [4. 4. 4. 4. 4.]]\n",
      "\n",
      "\n",
      "[[ 0  1  2  3  4  5  6  7]\n",
      " [ 8  9 10 11 12 13 14 15]]\n"
     ]
    }
   ],
   "source": [
    "# Fancy Indexing\n",
    "my_array_2 = np.empty((7,5))\n",
    "for i in range(7):\n",
    "    my_array_2[i]=i\n",
    "         \n",
    "print(my_array_2)\n",
    "print('\\n')\n",
    "\n",
    "# Select a subset of the rows in a particular order\n",
    "print(my_array_2[[5,6,2,3]])\n",
    "print('\\n')\n",
    "print(my_array_2[[-5,-6,-2,-3]])\n",
    "print('\\n')\n",
    "\n",
    "# Reshape\n",
    "my_array_3 = np.arange(16).reshape((2,8))\n",
    "print(my_array_3)"
   ]
  },
  {
   "cell_type": "code",
   "execution_count": 103,
   "metadata": {
    "collapsed": false
   },
   "outputs": [
    {
     "name": "stdout",
     "output_type": "stream",
     "text": [
      "[[-0.70440149 -0.84866631  0.43592109]\n",
      " [-0.76317825  1.84023575 -0.38184291]\n",
      " [-0.33096344 -0.69033619 -0.76337397]\n",
      " [-1.7292487   1.55936653  0.52333289]\n",
      " [-0.62440123  0.36471972  0.66486091]\n",
      " [-0.61549923 -1.94970015 -1.20438626]]\n",
      "[[ 4.94717656 -2.30237508 -0.34181426]\n",
      " [-2.30237508 10.94924131  2.86109993]\n",
      " [-0.34181426  2.86109993  3.08503464]]\n",
      "\n",
      "\n",
      "[[[ 0  1  2  3]\n",
      "  [ 4  5  6  7]]\n",
      "\n",
      " [[ 8  9 10 11]\n",
      "  [12 13 14 15]]]\n"
     ]
    },
    {
     "data": {
      "text/plain": [
       "array([[[ 0,  1,  2,  3],\n",
       "        [ 8,  9, 10, 11]],\n",
       "\n",
       "       [[ 4,  5,  6,  7],\n",
       "        [12, 13, 14, 15]]])"
      ]
     },
     "execution_count": 103,
     "metadata": {},
     "output_type": "execute_result"
    }
   ],
   "source": [
    "# Inner matrix product\n",
    "my_array_4 = np.random.randn(6,3)\n",
    "print(my_array_4)\n",
    "print(np.dot(my_array_4.T,my_array_4))\n",
    "print('\\n')\n",
    "\n",
    "# Transposing\n",
    "my_array_5 = np.arange(16).reshape(((2,2,4)))\n",
    "print(my_array_5)\n",
    "my_array_5.transpose((1,0,2))"
   ]
  },
  {
   "cell_type": "code",
   "execution_count": 104,
   "metadata": {
    "collapsed": false
   },
   "outputs": [
    {
     "name": "stdout",
     "output_type": "stream",
     "text": [
      "[[-0.23059937 -0.0635675   0.38043652 -0.70804744]\n",
      " [-0.80668308  0.77165994  0.62289927 -0.41444388]\n",
      " [ 0.31908457 -0.12373906  0.9209781   0.59659031]\n",
      " [ 0.29910253  0.74615159 -0.84480144  1.89189732]]\n"
     ]
    },
    {
     "data": {
      "text/plain": [
       "array([[-0.23059937, -0.0635675 ,  2.        , -0.70804744],\n",
       "       [-0.80668308,  2.        ,  2.        , -0.41444388],\n",
       "       [ 2.        , -0.12373906,  2.        ,  2.        ],\n",
       "       [ 2.        ,  2.        , -0.84480144,  2.        ]])"
      ]
     },
     "execution_count": 104,
     "metadata": {},
     "output_type": "execute_result"
    }
   ],
   "source": [
    "# Conditional logic as array operations\n",
    "my_array_6 = np.random.randn(4,4)\n",
    "print(my_array_6)\n",
    "np.where(my_array_6>0,2,my_array_6)"
   ]
  },
  {
   "cell_type": "code",
   "execution_count": 105,
   "metadata": {
    "collapsed": false
   },
   "outputs": [
    {
     "name": "stdout",
     "output_type": "stream",
     "text": [
      "[[0. 0. 0. 0. 0.]\n",
      " [1. 1. 1. 1. 1.]\n",
      " [2. 2. 2. 2. 2.]\n",
      " [3. 3. 3. 3. 3.]\n",
      " [4. 4. 4. 4. 4.]]\n",
      "\n",
      "\n",
      "2.0\n"
     ]
    },
    {
     "data": {
      "text/plain": [
       "array([[ 0.,  0.,  0.,  0.,  0.],\n",
       "       [ 1.,  1.,  1.,  1.,  1.],\n",
       "       [ 3.,  3.,  3.,  3.,  3.],\n",
       "       [ 6.,  6.,  6.,  6.,  6.],\n",
       "       [10., 10., 10., 10., 10.]])"
      ]
     },
     "execution_count": 105,
     "metadata": {},
     "output_type": "execute_result"
    }
   ],
   "source": [
    "# Mathematical and statistical methods\n",
    "my_array_7 = np.random.rand(5,5)\n",
    "for i in range(5):\n",
    "    my_array_7[i]=i\n",
    "print(my_array_7)\n",
    "print('\\n')\n",
    "print(my_array_7.mean())\n",
    "\n",
    "my_array_7.cumsum(0)"
   ]
  },
  {
   "cell_type": "code",
   "execution_count": 106,
   "metadata": {
    "collapsed": false
   },
   "outputs": [
    {
     "name": "stdout",
     "output_type": "stream",
     "text": [
      "[[1 2 3]\n",
      " [4 5 6]] \n",
      "\n",
      " [[ 5  6]\n",
      " [11 21]\n",
      " [ 8  9]]\n",
      "\n",
      "\n",
      "[[ 51  75]\n",
      " [123 183]]\n",
      "\n",
      "\n",
      "[[17 22 27]\n",
      " [22 29 36]\n",
      " [27 36 45]]\n",
      "\n",
      "\n",
      "(array([[-0.43864578,  0.8005768 ,  0.40824829],\n",
      "       [-0.56765924,  0.10533905, -0.81649658],\n",
      "       [-0.69667271, -0.5898987 ,  0.40824829]]), array([[-3.87556448e+01, -5.11925427e+01, -6.36294407e+01],\n",
      "       [ 0.00000000e+00, -5.68830885e-01, -1.13766177e+00],\n",
      "       [ 0.00000000e+00,  0.00000000e+00, -1.55431223e-15]]))\n"
     ]
    }
   ],
   "source": [
    "# Linear algebra\n",
    "x = np.array([[1,2,3],[4,5,6]])\n",
    "y = np.array([[5,6],[11,21],[8,9]])\n",
    "print (x, '\\n\\n', y)\n",
    "print('\\n')\n",
    "print(x.dot(y))\n",
    "\n",
    "from numpy.linalg import inv,qr\n",
    "math = x.T.dot(x)\n",
    "print('\\n')\n",
    "print(math)\n",
    "print('\\n')\n",
    "r = qr(math)\n",
    "print(r)"
   ]
  },
  {
   "cell_type": "code",
   "execution_count": 107,
   "metadata": {
    "collapsed": false
   },
   "outputs": [
    {
     "data": {
      "text/plain": [
       "0    1\n",
       "1    2\n",
       "2    3\n",
       "dtype: int64"
      ]
     },
     "execution_count": 107,
     "metadata": {},
     "output_type": "execute_result"
    }
   ],
   "source": [
    "# ------------------------Series------------------------------\n",
    "\n",
    "#class pandas.Series(data=None, index=None, dtype=None, name=None, copy=False, fastpath=False)\n",
    "import pandas as pd\n",
    "my_pandas_series = pd.Series(my_array)\n",
    "my_pandas_series\n"
   ]
  },
  {
   "cell_type": "code",
   "execution_count": 108,
   "metadata": {
    "collapsed": false,
    "scrolled": true
   },
   "outputs": [
    {
     "name": "stdout",
     "output_type": "stream",
     "text": [
      "a    3\n",
      "b    2\n",
      "dtype: int64\n",
      "\n",
      "\n",
      "2\n",
      "\n",
      "\n",
      "c     4\n",
      "d     6\n",
      "e    10\n",
      "dtype: int64\n"
     ]
    }
   ],
   "source": [
    "import pandas as pd\n",
    "my_pandas_series = pd.Series(data = [3,2,4,6,10], index = ['a','b','c','d','e'])\n",
    "print(my_pandas_series[:2])\n",
    "print('\\n')\n",
    "print(my_pandas_series['b'])\n",
    "print('\\n')\n",
    "print(my_pandas_series[my_pandas_series > 3])"
   ]
  },
  {
   "cell_type": "code",
   "execution_count": 109,
   "metadata": {
    "collapsed": false
   },
   "outputs": [
    {
     "name": "stdout",
     "output_type": "stream",
     "text": [
      "California    39500000\n",
      "new jersey     8800000\n",
      "new york      19450000\n",
      "dtype: int64\n",
      "\n",
      "\n",
      "California    39500000.0\n",
      "new york      19450000.0\n",
      "new jersey     8800000.0\n",
      "ohio                 NaN\n",
      "dtype: float64\n",
      "California    False\n",
      "new york      False\n",
      "new jersey    False\n",
      "ohio           True\n",
      "dtype: bool\n",
      "\n",
      "\n",
      "California    39500000\n",
      "ohio          11600000\n",
      "dtype: int64\n",
      "California    79000000.0\n",
      "new jersey           NaN\n",
      "new york             NaN\n",
      "ohio                 NaN\n",
      "dtype: float64\n"
     ]
    },
    {
     "data": {
      "text/plain": [
       "California    1.0\n",
       "new jersey    3.0\n",
       "new york      2.0\n",
       "dtype: float64"
      ]
     },
     "execution_count": 109,
     "metadata": {},
     "output_type": "execute_result"
    }
   ],
   "source": [
    "# Create Pandas Series from a dict\n",
    "state_pop = {'California':39500000, 'new york':19450000, 'new jersey':8800000}\n",
    "s_state = pd.Series(state_pop)\n",
    "print(s_state)\n",
    "states = ['California','new york','new jersey','ohio']\n",
    "s_state_reIndex = pd.Series(state_pop,index = states)\n",
    "print('\\n')\n",
    "\n",
    "# Detect missing data\n",
    "print(s_state_reIndex)\n",
    "print(s_state_reIndex.isnull())\n",
    "print('\\n')\n",
    "\n",
    "# Data alignment\n",
    "ohio_CA_pop = {'ohio': 11600000,'California':39500000}\n",
    "ohio_CA = pd.Series(ohio_CA_pop)\n",
    "print(ohio_CA)\n",
    "print(s_state_reIndex + ohio_CA)\n",
    "\n",
    "# Ranking\n",
    "s_state.rank(ascending=False,method='max')"
   ]
  },
  {
   "cell_type": "code",
   "execution_count": 110,
   "metadata": {
    "collapsed": false,
    "scrolled": true
   },
   "outputs": [
    {
     "name": "stdout",
     "output_type": "stream",
     "text": [
      "Students  age    name\n",
      "index                \n",
      "0          33    joey\n",
      "1          29     sam\n",
      "2          25   nancy\n",
      "3          31  monica\n",
      "\n",
      "\n",
      "[[33 'joey']\n",
      " [29 'sam']\n",
      " [25 'nancy']\n",
      " [31 'monica']]\n"
     ]
    }
   ],
   "source": [
    "# -----------------------Dataframe----------------------------------------\n",
    "\n",
    "#A Dataframe is a two-dimensional data structure, i.e., data is aligned in a tabular fashion in rows and columns\n",
    "data_dic = {'name':['joey','sam','nancy','monica'],\n",
    "            'age': [33,29,25,31]}\n",
    "my_df = pd.DataFrame (data_dic)\n",
    "my_df.index.name='index';my_df.columns.name = 'Students'\n",
    "print(my_df)\n",
    "print('\\n')\n",
    "\n",
    "# 'values' returns the data contained in the Dataframe as a 2D array\n",
    "print(my_df.values)"
   ]
  },
  {
   "cell_type": "code",
   "execution_count": 111,
   "metadata": {
    "collapsed": false
   },
   "outputs": [
    {
     "name": "stdout",
     "output_type": "stream",
     "text": [
      "sam\n",
      "\n",
      "\n",
      "index\n",
      "0     joey\n",
      "1      sam\n",
      "2    nancy\n",
      "Name: name, dtype: object\n",
      "Students  age    name\n",
      "index                \n",
      "0          33    joey\n",
      "1          29     sam\n",
      "2          25   nancy\n",
      "3          31  monica\n",
      "Students   age    name\n",
      "index                 \n",
      "0         33.0    joey\n",
      "1         29.0     sam\n",
      "2         25.0   nancy\n",
      "3         31.0  monica\n",
      "4          NaN     NaN\n"
     ]
    }
   ],
   "source": [
    "# Indexing\n",
    "print(my_df[\"name\"][1])\n",
    "print('\\n')\n",
    "print(my_df[\"name\"][:-1])\n",
    "\n",
    "# Reindexing\n",
    "# Calling reindex may introduce missing values if any index values were not present\n",
    "print(my_df)\n",
    "my_df_2 = my_df.reindex([0,1,2,3,4])\n",
    "print(my_df_2)"
   ]
  },
  {
   "cell_type": "code",
   "execution_count": 112,
   "metadata": {
    "collapsed": false
   },
   "outputs": [
    {
     "name": "stdout",
     "output_type": "stream",
     "text": [
      "   a   b  c\n",
      "0  0   3  4\n",
      "1  0   6  6\n",
      "2  1  -2  9\n",
      "3  1  10 -1\n",
      "\n",
      "\n",
      "     a    b    c\n",
      "0  1.0  2.0  3.0\n",
      "1  1.0  2.5  2.5\n",
      "2  2.0  1.0  3.0\n",
      "3  2.0  3.0  1.0\n"
     ]
    },
    {
     "name": "stderr",
     "output_type": "stream",
     "text": [
      "/Users/sanduhr/anaconda/lib/python3.6/site-packages/ipykernel/__main__.py:4: FutureWarning: by argument to sort_index is deprecated, pls use .sort_values(by=...)\n"
     ]
    }
   ],
   "source": [
    "# Sorting and ranking\n",
    "\n",
    "my_df_3 = pd.DataFrame ({'c': [4,6,9,-1],'a':[0,0,1,1],'b': [3,6,-2,10]})\n",
    "print(my_df_3.sort_index(by =['a','b']))\n",
    "print('\\n')\n",
    "print(my_df_3.rank(axis=1))"
   ]
  },
  {
   "cell_type": "code",
   "execution_count": 113,
   "metadata": {
    "collapsed": false
   },
   "outputs": [
    {
     "name": "stdout",
     "output_type": "stream",
     "text": [
      "a     2\n",
      "b    17\n",
      "c    18\n",
      "dtype: int64\n",
      "\n",
      "\n",
      "a    0.50\n",
      "b    4.25\n",
      "c    4.50\n",
      "dtype: float64\n",
      "\n",
      "\n",
      "a    2\n",
      "b    3\n",
      "c    2\n",
      "dtype: int64\n",
      "\n",
      "\n",
      "             a          b         c\n",
      "count  4.00000   4.000000  4.000000\n",
      "mean   0.50000   4.250000  4.500000\n",
      "std    0.57735   5.057997  4.203173\n",
      "min    0.00000  -2.000000 -1.000000\n",
      "25%    0.00000   1.750000  2.750000\n",
      "50%    0.50000   4.500000  5.000000\n",
      "75%    1.00000   7.000000  6.750000\n",
      "max    1.00000  10.000000  9.000000\n"
     ]
    }
   ],
   "source": [
    "# Summarizing and computing descriptive statistics\n",
    "print(my_df_3.sum())\n",
    "print('\\n')\n",
    "print(my_df_3.mean())\n",
    "print('\\n')\n",
    "print(my_df_3.idxmax())\n",
    "print('\\n')\n",
    "print(my_df_3.describe())"
   ]
  },
  {
   "cell_type": "code",
   "execution_count": 122,
   "metadata": {
    "collapsed": false
   },
   "outputs": [
    {
     "name": "stdout",
     "output_type": "stream",
     "text": [
      "   a   b  c   d\n",
      "0  0   3  4 NaN\n",
      "1  0   6  6 NaN\n",
      "2  1  -2  9 NaN\n",
      "3  1  10 -1 NaN\n",
      "\n",
      "\n",
      "   a   b  c    d\n",
      "0  0   3  4  0.0\n",
      "1  0   6  6  0.0\n",
      "2  1  -2  9  0.0\n",
      "3  1  10 -1  0.0\n",
      "\n",
      "\n",
      "   a   b  c         d\n",
      "0  0   3  4 -0.390404\n",
      "1  0   6  6 -0.390404\n",
      "2  1  -2  9 -0.390404\n",
      "3  1  10 -1 -0.390404\n",
      "\n",
      "\n"
     ]
    }
   ],
   "source": [
    "# Filling in missing values\n",
    "\n",
    "my_df_4 = pd.DataFrame ({'c': [4,6,9,-1],'a':[0,0,1,1],'b': [3,6,-2,10],'d':[0,0,0,0]})\n",
    "my_df_4['d'] = np.NaN\n",
    "print(my_df_4)\n",
    "print('\\n')\n",
    "print(my_df_4.fillna(0))\n",
    "print('\\n')\n",
    "print(my_df_4.fillna(data.mean()))\n",
    "print('\\n')\n",
    "#print(my_df_4.fillna({'d':0.5})"
   ]
  }
 ],
 "metadata": {
  "kernelspec": {
   "display_name": "Python 3",
   "language": "python",
   "name": "python3"
  },
  "language_info": {
   "codemirror_mode": {
    "name": "ipython",
    "version": 3
   },
   "file_extension": ".py",
   "mimetype": "text/x-python",
   "name": "python",
   "nbconvert_exporter": "python",
   "pygments_lexer": "ipython3",
   "version": "3.6.0"
  }
 },
 "nbformat": 4,
 "nbformat_minor": 2
}
