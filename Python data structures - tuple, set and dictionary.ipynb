{
 "cells": [
  {
   "cell_type": "code",
   "execution_count": 16,
   "metadata": {
    "collapsed": false
   },
   "outputs": [
    {
     "name": "stdout",
     "output_type": "stream",
     "text": [
      "(4, 5, 6)\n",
      "6\n",
      "5\n",
      "9\n"
     ]
    }
   ],
   "source": [
    "#---------------------------------tuple---------------------------------------#\n",
    "\n",
    "# A tuple is a one-dimensional, fixed-length, immutable sequence of Python Objects\n",
    "\n",
    "my_tup = 4,5,6\n",
    "print(my_tup)\n",
    "\n",
    "# Element can be accessed with []\n",
    "print(my_tup[2])\n",
    "\n",
    "# Unpacking tuples\n",
    "a,b,c = my_tup\n",
    "print(b)\n",
    "\n",
    "my_tup2 = 7,8,(9,10)\n",
    "a,b,(c,d) = my_tup2\n",
    "print(c)"
   ]
  },
  {
   "cell_type": "code",
   "execution_count": 15,
   "metadata": {
    "collapsed": false
   },
   "outputs": [
    {
     "name": "stdout",
     "output_type": "stream",
     "text": [
      "('can', 'I', 'be', 'a', 'tuple', '?')\n",
      "('s', 't', 'r', 'i', 'n', 'g')\n"
     ]
    }
   ],
   "source": [
    "# Any sequence can be converted to a tuple\n",
    "\n",
    "print(tuple(['can','I','be','a','tuple','?']))\n",
    "\n",
    "tuple_string = tuple('string')\n",
    "print(tuple_string)"
   ]
  },
  {
   "cell_type": "code",
   "execution_count": 47,
   "metadata": {
    "collapsed": false
   },
   "outputs": [
    {
     "data": {
      "text/plain": [
       "4"
      ]
     },
     "execution_count": 47,
     "metadata": {},
     "output_type": "execute_result"
    }
   ],
   "source": [
    "# tuple method\n",
    "\n",
    "my_tup3 = ('a','e','f','c','g','b','c','d','e','a','a','a')\n",
    "my_tup3.count('a')\n",
    "my_tup3.count('a')"
   ]
  },
  {
   "cell_type": "code",
   "execution_count": 104,
   "metadata": {
    "collapsed": false
   },
   "outputs": [
    {
     "name": "stdout",
     "output_type": "stream",
     "text": [
      "{'carrots', 'bananas', 'apples'}\n"
     ]
    },
    {
     "data": {
      "text/plain": [
       "True"
      ]
     },
     "execution_count": 104,
     "metadata": {},
     "output_type": "execute_result"
    }
   ],
   "source": [
    "#---------------------------------set---------------------------------------#\n",
    "\n",
    "# A set is a collection which is unordered and unindexed. In Python sets are written with curly brackets.\n",
    "my_set = {'apples','bananas','carrots'}\n",
    "print (my_set)\n",
    "\n",
    "# Check if a set is a subset of another set\n",
    "my_set_2 = {'apples'}\n",
    "my_set_2.issubset(my_set)"
   ]
  },
  {
   "cell_type": "code",
   "execution_count": 23,
   "metadata": {
    "collapsed": false
   },
   "outputs": [
    {
     "name": "stdout",
     "output_type": "stream",
     "text": [
      "{0, 1, 66, 3, 6, 8, 9, 10, 74, 46, 29}\n",
      "{0, 1, 66, 3, 9, 10, 74, 29, 46}\n",
      "{8, 6}\n",
      "{1, 3, 9}\n"
     ]
    }
   ],
   "source": [
    "# Mathematical set operations\n",
    "\n",
    "set_a = {1,6,8,9,3}\n",
    "set_b = {0,6,8,10,29,46,74,66}\n",
    "print(set_a | set_b) #union\n",
    "print(set_a ^ set_b)#symmetric difference\n",
    "print(set_a & set_b) # and\n",
    "print(set_a - set_b) # difference\n"
   ]
  },
  {
   "cell_type": "code",
   "execution_count": 39,
   "metadata": {
    "collapsed": false
   },
   "outputs": [
    {
     "name": "stdout",
     "output_type": "stream",
     "text": [
      "dict_keys(['brand', 'model', 'price'])\n",
      "dict_values(['Nike', 'classic', 198])\n",
      "classic\n",
      "True\n",
      "{'brand': 'Nike', 'model': 'classic', 'price': 198, 'color': 'blk'}\n"
     ]
    }
   ],
   "source": [
    "#---------------------------------dictionary---------------------------------------#\n",
    "\n",
    "# A dictionary is a collection which is unordered, changeable and indexed. \n",
    "# In Python dictionaries are written with curly brackets, and they have keys and values.\n",
    "\n",
    "thisdict = {\n",
    "  \"brand\": \"Nike\",\n",
    "  \"model\": \"classic\",\n",
    "  \"price\": 198\n",
    "}\n",
    "\n",
    "print(thisdict.keys())\n",
    "print(thisdict.values())\n",
    "\n",
    "print(thisdict['model'])\n",
    "\n",
    "# Check if a dict contains a key\n",
    "print(\"brand\" in thisdict)\n",
    "\n",
    "# One dict can be merged into anothor dict\n",
    "thisdict.update({'color': 'blk'})\n",
    "\n",
    "print(thisdict)"
   ]
  },
  {
   "cell_type": "code",
   "execution_count": 43,
   "metadata": {
    "collapsed": false
   },
   "outputs": [
    {
     "data": {
      "text/plain": [
       "{'b': ['black', 'blue'],\n",
       " 'g': ['grey', 'green'],\n",
       " 'o': ['orange'],\n",
       " 'r': ['red'],\n",
       " 'y': ['yellow']}"
      ]
     },
     "execution_count": 43,
     "metadata": {},
     "output_type": "execute_result"
    }
   ],
   "source": [
    " # Categorizing a list of color by it's first letter with a 'for loop'\n",
    "\n",
    "colors = ['black','red','yellow','blue','grey','orange','green']\n",
    "by_letter = {}\n",
    "for color in colors:\n",
    "    letter = color[0]\n",
    "    if letter not in by_letter:\n",
    "        by_letter[letter] = [color]\n",
    "    else:\n",
    "        by_letter[letter].append(color)\n",
    "            \n",
    "by_letter"
   ]
  }
 ],
 "metadata": {
  "kernelspec": {
   "display_name": "Python 3",
   "language": "python",
   "name": "python3"
  },
  "language_info": {
   "codemirror_mode": {
    "name": "ipython",
    "version": 3
   },
   "file_extension": ".py",
   "mimetype": "text/x-python",
   "name": "python",
   "nbconvert_exporter": "python",
   "pygments_lexer": "ipython3",
   "version": "3.6.0"
  }
 },
 "nbformat": 4,
 "nbformat_minor": 2
}
