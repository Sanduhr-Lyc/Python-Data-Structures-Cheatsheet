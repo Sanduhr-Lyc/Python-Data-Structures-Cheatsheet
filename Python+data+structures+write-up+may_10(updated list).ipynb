{
 "cells": [
  {
   "cell_type": "code",
   "execution_count": 158,
   "metadata": {
    "collapsed": false
   },
   "outputs": [
    {
     "data": {
      "text/plain": [
       "['Niu', 'Gu', 'Shi', 'apples', 'beef', 'potatos', 'pasta', 'a', 'b', 'c']"
      ]
     },
     "execution_count": 158,
     "metadata": {},
     "output_type": "execute_result"
    }
   ],
   "source": [
    "#---------------------------------list---------------------------------------#\n",
    "\n",
    "#list is a collection which is ordered and changeable. Allows duplicate members. Content can be modified.\n",
    "#Two ways to define a list\n",
    "my_list = ['Niu','Gu','Shi']\n",
    "\n",
    "food = ['apples','beef','potatos','pasta']\n",
    "my_list_2 = list (food)\n",
    "\n",
    "# Combining lists\n",
    "my_list_combined = my_list + my_list_2\n",
    "my_list_combined.extend(['a','b','c'])\n",
    "\n",
    "my_list_combined"
   ]
  },
  {
   "cell_type": "code",
   "execution_count": 159,
   "metadata": {
    "collapsed": false
   },
   "outputs": [
    {
     "name": "stdout",
     "output_type": "stream",
     "text": [
      "['Niu', '(1,2)', 'Gu', 'Shi', 'Santa']\n"
     ]
    }
   ],
   "source": [
    "# Adding/removing elements\n",
    "my_list.append('Santa')\n",
    "\n",
    "# Insert an element at a specific location\n",
    "my_list.insert(1,'(1,2)')\n",
    "\n",
    "print (my_list)"
   ]
  },
  {
   "cell_type": "code",
   "execution_count": 160,
   "metadata": {
    "collapsed": false
   },
   "outputs": [
    {
     "data": {
      "text/plain": [
       "['Niu', 'Gu', 'Shi']"
      ]
     },
     "execution_count": 160,
     "metadata": {},
     "output_type": "execute_result"
    }
   ],
   "source": [
    "# Remove an element at a particular index\n",
    "my_list.pop(1)\n",
    "my_list\n",
    "\n",
    "# Element can also be removed by value\n",
    "my_list.remove('Santa')\n",
    "my_list"
   ]
  },
  {
   "cell_type": "code",
   "execution_count": 161,
   "metadata": {
    "collapsed": false
   },
   "outputs": [
    {
     "data": {
      "text/plain": [
       "True"
      ]
     },
     "execution_count": 161,
     "metadata": {},
     "output_type": "execute_result"
    }
   ],
   "source": [
    "# Check if a list contains a value\n",
    "'Gu' in my_list"
   ]
  },
  {
   "cell_type": "code",
   "execution_count": 162,
   "metadata": {
    "collapsed": false
   },
   "outputs": [
    {
     "data": {
      "text/plain": [
       "['Gu', 'Niu', 'Shi']"
      ]
     },
     "execution_count": 162,
     "metadata": {},
     "output_type": "execute_result"
    }
   ],
   "source": [
    "# Sort a list \n",
    "list_a = [1,5,7,3,5,9,7,33,4,77,8,5,701,109]\n",
    "list_a.sort()\n",
    "list_a\n",
    "\n",
    "# Sort strings by lengths\n",
    "my_list.sort(key=len)\n",
    "my_list\n"
   ]
  },
  {
   "cell_type": "code",
   "execution_count": 163,
   "metadata": {
    "collapsed": false
   },
   "outputs": [
    {
     "data": {
      "text/plain": [
       "[1, 3, 4, 5, 5, 5, 7, 7, 8, 9, 33, 77, 109, 701, 888]"
      ]
     },
     "execution_count": 163,
     "metadata": {},
     "output_type": "execute_result"
    }
   ],
   "source": [
    "# Binary search & Maintain a sorted list\n",
    "import bisect as bi\n",
    "\n",
    "# Find the location to be inserted\n",
    "bi.bisect(list_a,55)\n",
    "\n",
    "# Find the location and insert a new element in a sorted list\n",
    "bi.insort(list_a,888)\n",
    "\n",
    "list_a"
   ]
  },
  {
   "cell_type": "code",
   "execution_count": 157,
   "metadata": {
    "collapsed": false
   },
   "outputs": [
    {
     "data": {
      "text/plain": [
       "['Gu']"
      ]
     },
     "execution_count": 157,
     "metadata": {},
     "output_type": "execute_result"
    }
   ],
   "source": [
    "# Slicing \n",
    "my_list[1:2]\n",
    "my_list[:1]\n",
    "my_list[2:]\n",
    "my_list[-2]\n",
    "my_list[-2:]\n",
    "my_list[::2]\n",
    "my_list[::-2]\n",
    "my_list[-2::]\n",
    "my_list[-2:-1]\n"
   ]
  },
  {
   "cell_type": "code",
   "execution_count": 91,
   "metadata": {
    "collapsed": false
   },
   "outputs": [
    {
     "data": {
      "text/plain": [
       "5"
      ]
     },
     "execution_count": 91,
     "metadata": {},
     "output_type": "execute_result"
    }
   ],
   "source": [
    "#---------------------------------tuple---------------------------------------#\n",
    "\n",
    "#A tuple is a one-dimensional, fixed-length, immutable sequence of Python Objects\n",
    "\n",
    "my_tup = 4,5,6\n",
    "my_tup\n",
    "\n",
    "#Unpacking tuples\n",
    "a,b,c = my_tup\n",
    "b"
   ]
  },
  {
   "cell_type": "code",
   "execution_count": 104,
   "metadata": {
    "collapsed": false
   },
   "outputs": [
    {
     "name": "stdout",
     "output_type": "stream",
     "text": [
      "{'carrots', 'bananas', 'apples'}\n"
     ]
    },
    {
     "data": {
      "text/plain": [
       "True"
      ]
     },
     "execution_count": 104,
     "metadata": {},
     "output_type": "execute_result"
    }
   ],
   "source": [
    "# A set is a collection which is unordered and unindexed. In Python sets are written with curly brackets.\n",
    "my_set = {'apples','bananas','carrots'}\n",
    "print (my_set)\n",
    "\n",
    "# Check if a set is a subset of another set\n",
    "my_set_2 = {'apples'}\n",
    "my_set_2.issubset(my_set)"
   ]
  },
  {
   "cell_type": "code",
   "execution_count": 105,
   "metadata": {
    "collapsed": false
   },
   "outputs": [
    {
     "name": "stdout",
     "output_type": "stream",
     "text": [
      "{'brand': 'Nike', 'model': 'classic', 'price': 198}\n"
     ]
    }
   ],
   "source": [
    "#A dictionary is a collection which is unordered, changeable and indexed. \n",
    "#In Python dictionaries are written with curly brackets, and they have keys and values.\n",
    "\n",
    "thisdict = {\n",
    "  \"brand\": \"Nike\",\n",
    "  \"model\": \"classic\",\n",
    "  \"price\": 198\n",
    "}\n",
    "print(thisdict)"
   ]
  },
  {
   "cell_type": "code",
   "execution_count": 113,
   "metadata": {
    "collapsed": false
   },
   "outputs": [
    {
     "data": {
      "text/plain": [
       "array([[3, 4, 5]])"
      ]
     },
     "execution_count": 113,
     "metadata": {},
     "output_type": "execute_result"
    }
   ],
   "source": [
    "#Numpy array is a fast, flexible container for large data sets in Python.\n",
    "\n",
    "import numpy as np\n",
    "my_array = np.array([1, 2, 3])\n",
    "my_array\n",
    "\n",
    "#Multi-dimentional array\n",
    "my_ndarray = np.array([[3,4,5],[6,7,8]])\n",
    "my_ndarray\n",
    "\n",
    "#Basic indexing and slicing\n",
    "my_ndarray[0][1]\n",
    "my_ndarray[0,1]\n",
    "my_ndarray[:1]"
   ]
  },
  {
   "cell_type": "code",
   "execution_count": 12,
   "metadata": {
    "collapsed": false
   },
   "outputs": [
    {
     "data": {
      "text/plain": [
       "0    1\n",
       "1    2\n",
       "2    3\n",
       "dtype: int64"
      ]
     },
     "execution_count": 12,
     "metadata": {},
     "output_type": "execute_result"
    }
   ],
   "source": [
    "#class pandas.Series(data=None, index=None, dtype=None, name=None, copy=False, fastpath=False)\n",
    "import pandas as pd\n",
    "my_pandas_series = pd.Series(my_array)\n",
    "my_pandas_series\n"
   ]
  },
  {
   "cell_type": "code",
   "execution_count": 40,
   "metadata": {
    "collapsed": false
   },
   "outputs": [
    {
     "data": {
      "text/plain": [
       "a    3\n",
       "b    2\n",
       "dtype: object"
      ]
     },
     "execution_count": 40,
     "metadata": {},
     "output_type": "execute_result"
    }
   ],
   "source": [
    "import pandas as pd\n",
    "my_pandas_series = pd.Series(data = ['3','2','4','6','10'], index = ['a','b','c','d','e'])\n",
    "my_pandas_series[:2]"
   ]
  },
  {
   "cell_type": "code",
   "execution_count": 54,
   "metadata": {
    "collapsed": false,
    "scrolled": true
   },
   "outputs": [
    {
     "data": {
      "text/plain": [
       "'sam'"
      ]
     },
     "execution_count": 54,
     "metadata": {},
     "output_type": "execute_result"
    }
   ],
   "source": [
    "#A Dataframe is a two-dimensional data structure, i.e., data is aligned in a tabular fashion in rows and columns\n",
    "data_dic = {'name':['joey','sam','nancy','monica'],\n",
    "            'age': [33,29,25,31]}\n",
    "my_df = pd.DataFrame (data_dic)\n",
    "my_df[\"name\"][1]"
   ]
  },
  {
   "cell_type": "code",
   "execution_count": 76,
   "metadata": {
    "collapsed": false
   },
   "outputs": [
    {
     "name": "stdout",
     "output_type": "stream",
     "text": [
      "   a\n",
      "0  1\n"
     ]
    }
   ],
   "source": [
    "#attribute value to a dataframe\n",
    "data = {'a':['1']}\n",
    "test = pd.DataFrame(data)\n",
    "test['a'][0]\n",
    "print(test)\n"
   ]
  }
 ],
 "metadata": {
  "kernelspec": {
   "display_name": "Python 3",
   "language": "python",
   "name": "python3"
  },
  "language_info": {
   "codemirror_mode": {
    "name": "ipython",
    "version": 3
   },
   "file_extension": ".py",
   "mimetype": "text/x-python",
   "name": "python",
   "nbconvert_exporter": "python",
   "pygments_lexer": "ipython3",
   "version": "3.6.0"
  }
 },
 "nbformat": 4,
 "nbformat_minor": 2
}
